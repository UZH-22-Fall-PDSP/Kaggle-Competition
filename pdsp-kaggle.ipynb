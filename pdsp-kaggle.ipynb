{
 "cells": [
  {
   "cell_type": "markdown",
   "metadata": {},
   "source": [
    "## 0. import packages"
   ]
  },
  {
   "cell_type": "code",
   "execution_count": 1,
   "metadata": {
    "executionInfo": {
     "elapsed": 533,
     "status": "ok",
     "timestamp": 1667550422711,
     "user": {
      "displayName": "Songyi Han",
      "userId": "11159266753548301334"
     },
     "user_tz": -60
    },
    "id": "hWkpLMNy2Tyc"
   },
   "outputs": [],
   "source": [
    "import pandas as pd\n",
    "import numpy as np\n",
    "from scipy.spatial import distance\n",
    "\n",
    "import gensim\n",
    "import fasttext"
   ]
  },
  {
   "cell_type": "code",
   "execution_count": 72,
   "metadata": {},
   "outputs": [],
   "source": [
    "import re\n",
    "import requests\n",
    "from bs4 import BeautifulSoup"
   ]
  },
  {
   "cell_type": "markdown",
   "metadata": {
    "id": "ePUweDgLAbAC"
   },
   "source": [
    "## 1. load cvs files"
   ]
  },
  {
   "cell_type": "code",
   "execution_count": 3,
   "metadata": {
    "executionInfo": {
     "elapsed": 305,
     "status": "ok",
     "timestamp": 1667554644250,
     "user": {
      "displayName": "Songyi Han",
      "userId": "11159266753548301334"
     },
     "user_tz": -60
    },
    "id": "ehuno_vm2UVD"
   },
   "outputs": [],
   "source": [
    "# read recipe csv file\n",
    "df_recipe = pd.read_csv(\"recipes_test.csv\")"
   ]
  },
  {
   "cell_type": "code",
   "execution_count": 60,
   "metadata": {
    "colab": {
     "base_uri": "https://localhost:8080/",
     "height": 493
    },
    "executionInfo": {
     "elapsed": 19,
     "status": "ok",
     "timestamp": 1667493048067,
     "user": {
      "displayName": "Songyi Han",
      "userId": "11159266753548301334"
     },
     "user_tz": -60
    },
    "id": "TSm3fRKi2jdQ",
    "outputId": "5ce8cc56-cd81-4ff6-f63a-080c6ca76c7f"
   },
   "outputs": [
    {
     "data": {
      "text/html": [
       "<div>\n",
       "<style scoped>\n",
       "    .dataframe tbody tr th:only-of-type {\n",
       "        vertical-align: middle;\n",
       "    }\n",
       "\n",
       "    .dataframe tbody tr th {\n",
       "        vertical-align: top;\n",
       "    }\n",
       "\n",
       "    .dataframe thead th {\n",
       "        text-align: right;\n",
       "    }\n",
       "</style>\n",
       "<table border=\"1\" class=\"dataframe\">\n",
       "  <thead>\n",
       "    <tr style=\"text-align: right;\">\n",
       "      <th></th>\n",
       "      <th>name</th>\n",
       "      <th>id</th>\n",
       "      <th>minutes</th>\n",
       "      <th>contributor_id</th>\n",
       "      <th>submitted</th>\n",
       "      <th>tags</th>\n",
       "      <th>nutrition</th>\n",
       "      <th>n_steps</th>\n",
       "      <th>steps</th>\n",
       "      <th>description</th>\n",
       "      <th>n_ingredients</th>\n",
       "      <th>ingredients</th>\n",
       "    </tr>\n",
       "  </thead>\n",
       "  <tbody>\n",
       "    <tr>\n",
       "      <th>0</th>\n",
       "      <td>pretty freaking awesome  pulled pork  crock pot</td>\n",
       "      <td>484624</td>\n",
       "      <td>1260</td>\n",
       "      <td>197045</td>\n",
       "      <td>2012-07-30</td>\n",
       "      <td>['course', 'preparation', 'main-dish', 'easy']</td>\n",
       "      <td>[685.3, 55.0, 127.0, 83.0, 86.0, 62.0, 14.0]</td>\n",
       "      <td>23</td>\n",
       "      <td>['1', '6 hours before cooking , mix all ingred...</td>\n",
       "      <td>in the search for the best pulled pork recipe ...</td>\n",
       "      <td>11</td>\n",
       "      <td>3 -4 lbs pork butt 2 large onions 1 cup ging...</td>\n",
       "    </tr>\n",
       "    <tr>\n",
       "      <th>1</th>\n",
       "      <td>acadia s eggplant parmesan</td>\n",
       "      <td>399771</td>\n",
       "      <td>60</td>\n",
       "      <td>804550</td>\n",
       "      <td>2009-11-17</td>\n",
       "      <td>['60-minutes-or-less', 'time-to-make', 'course...</td>\n",
       "      <td>[206.7, 21.0, 23.0, 19.0, 20.0, 39.0, 3.0]</td>\n",
       "      <td>10</td>\n",
       "      <td>['slice eggplant cross wise into desired thick...</td>\n",
       "      <td>i love eggplant and i decided to make a layere...</td>\n",
       "      <td>6</td>\n",
       "      <td>salt 2 tablespoons butter (or margarine) 1 e...</td>\n",
       "    </tr>\n",
       "    <tr>\n",
       "      <th>2</th>\n",
       "      <td>african chicken curry</td>\n",
       "      <td>455721</td>\n",
       "      <td>60</td>\n",
       "      <td>400708</td>\n",
       "      <td>2011-05-10</td>\n",
       "      <td>['curries', '60-minutes-or-less', 'time-to-mak...</td>\n",
       "      <td>[758.4, 92.0, 16.0, 16.0, 91.0, 148.0, 4.0]</td>\n",
       "      <td>7</td>\n",
       "      <td>['heat olive oil in a large , heavy skillet ov...</td>\n",
       "      <td>this is an african (mozambique) curry that can...</td>\n",
       "      <td>10</td>\n",
       "      <td>1 tablespoon olive oil 1 onion, chopped 2 ga...</td>\n",
       "    </tr>\n",
       "  </tbody>\n",
       "</table>\n",
       "</div>"
      ],
      "text/plain": [
       "                                              name      id  minutes  \\\n",
       "0  pretty freaking awesome  pulled pork  crock pot  484624     1260   \n",
       "1                       acadia s eggplant parmesan  399771       60   \n",
       "2                            african chicken curry  455721       60   \n",
       "\n",
       "   contributor_id   submitted  \\\n",
       "0          197045  2012-07-30   \n",
       "1          804550  2009-11-17   \n",
       "2          400708  2011-05-10   \n",
       "\n",
       "                                                tags  \\\n",
       "0     ['course', 'preparation', 'main-dish', 'easy']   \n",
       "1  ['60-minutes-or-less', 'time-to-make', 'course...   \n",
       "2  ['curries', '60-minutes-or-less', 'time-to-mak...   \n",
       "\n",
       "                                      nutrition  n_steps  \\\n",
       "0  [685.3, 55.0, 127.0, 83.0, 86.0, 62.0, 14.0]       23   \n",
       "1    [206.7, 21.0, 23.0, 19.0, 20.0, 39.0, 3.0]       10   \n",
       "2   [758.4, 92.0, 16.0, 16.0, 91.0, 148.0, 4.0]        7   \n",
       "\n",
       "                                               steps  \\\n",
       "0  ['1', '6 hours before cooking , mix all ingred...   \n",
       "1  ['slice eggplant cross wise into desired thick...   \n",
       "2  ['heat olive oil in a large , heavy skillet ov...   \n",
       "\n",
       "                                         description  n_ingredients  \\\n",
       "0  in the search for the best pulled pork recipe ...             11   \n",
       "1  i love eggplant and i decided to make a layere...              6   \n",
       "2  this is an african (mozambique) curry that can...             10   \n",
       "\n",
       "                                         ingredients  \n",
       "0    3 -4 lbs pork butt 2 large onions 1 cup ging...  \n",
       "1    salt 2 tablespoons butter (or margarine) 1 e...  \n",
       "2    1 tablespoon olive oil 1 onion, chopped 2 ga...  "
      ]
     },
     "execution_count": 60,
     "metadata": {},
     "output_type": "execute_result"
    }
   ],
   "source": [
    "df_recipe.head(3)"
   ]
  },
  {
   "cell_type": "code",
   "execution_count": 5,
   "metadata": {
    "executionInfo": {
     "elapsed": 346,
     "status": "ok",
     "timestamp": 1667554698307,
     "user": {
      "displayName": "Songyi Han",
      "userId": "11159266753548301334"
     },
     "user_tz": -60
    },
    "id": "pkfMWK5U2mM1"
   },
   "outputs": [],
   "source": [
    "df_emissions = pd.read_csv(\"emissions.csv\")"
   ]
  },
  {
   "cell_type": "code",
   "execution_count": 61,
   "metadata": {
    "colab": {
     "base_uri": "https://localhost:8080/",
     "height": 424
    },
    "executionInfo": {
     "elapsed": 245,
     "status": "ok",
     "timestamp": 1667554703453,
     "user": {
      "displayName": "Songyi Han",
      "userId": "11159266753548301334"
     },
     "user_tz": -60
    },
    "id": "jHkS04u925_s",
    "outputId": "067809bd-9880-4981-b085-247442a927a2"
   },
   "outputs": [
    {
     "data": {
      "text/html": [
       "<div>\n",
       "<style scoped>\n",
       "    .dataframe tbody tr th:only-of-type {\n",
       "        vertical-align: middle;\n",
       "    }\n",
       "\n",
       "    .dataframe tbody tr th {\n",
       "        vertical-align: top;\n",
       "    }\n",
       "\n",
       "    .dataframe thead th {\n",
       "        text-align: right;\n",
       "    }\n",
       "</style>\n",
       "<table border=\"1\" class=\"dataframe\">\n",
       "  <thead>\n",
       "    <tr style=\"text-align: right;\">\n",
       "      <th></th>\n",
       "      <th>ingredient</th>\n",
       "      <th>variety</th>\n",
       "      <th>certification</th>\n",
       "      <th>emissions</th>\n",
       "    </tr>\n",
       "  </thead>\n",
       "  <tbody>\n",
       "    <tr>\n",
       "      <th>0</th>\n",
       "      <td>mushrooms</td>\n",
       "      <td>canned</td>\n",
       "      <td>conventional</td>\n",
       "      <td>2.55</td>\n",
       "    </tr>\n",
       "    <tr>\n",
       "      <th>1</th>\n",
       "      <td>corn</td>\n",
       "      <td>canned</td>\n",
       "      <td>conventional</td>\n",
       "      <td>1.20</td>\n",
       "    </tr>\n",
       "    <tr>\n",
       "      <th>2</th>\n",
       "      <td>tomato</td>\n",
       "      <td>canned</td>\n",
       "      <td>conventional</td>\n",
       "      <td>1.87</td>\n",
       "    </tr>\n",
       "  </tbody>\n",
       "</table>\n",
       "</div>"
      ],
      "text/plain": [
       "  ingredient variety certification  emissions\n",
       "0  mushrooms  canned  conventional       2.55\n",
       "1       corn  canned  conventional       1.20\n",
       "2     tomato  canned  conventional       1.87"
      ]
     },
     "execution_count": 61,
     "metadata": {},
     "output_type": "execute_result"
    }
   ],
   "source": [
    "df_emissions.head(3)"
   ]
  },
  {
   "cell_type": "markdown",
   "metadata": {
    "id": "zctOHDKIAo6p"
   },
   "source": [
    "## 2. load language model "
   ]
  },
  {
   "cell_type": "code",
   "execution_count": 7,
   "metadata": {},
   "outputs": [
    {
     "name": "stderr",
     "output_type": "stream",
     "text": [
      "Warning : `load_model` does not return WordVectorModel or SupervisedModel any more, but a `FastText` object which is very similar.\n"
     ]
    }
   ],
   "source": [
    "ft = fasttext.load_model('../model/fastText/cc.en.300.bin')"
   ]
  },
  {
   "cell_type": "markdown",
   "metadata": {
    "id": "LZSVM1znAg4U"
   },
   "source": [
    "## 3. compute all word vectors of ingredients in emission df "
   ]
  },
  {
   "cell_type": "code",
   "execution_count": 23,
   "metadata": {},
   "outputs": [],
   "source": [
    "# list of unique ingredient name in db (total 441)\n",
    "ing_db_words = df_emissions['ingredient'].unique()"
   ]
  },
  {
   "cell_type": "code",
   "execution_count": 24,
   "metadata": {
    "id": "FuyCvuSeAXP6"
   },
   "outputs": [],
   "source": [
    "# list of word-vector of ingredient name in db (total 441)\n",
    "ing_db_vecs = []\n",
    "for ing in ing_db_words:\n",
    "    ing_db_vecs.append(ft.get_word_vector(ing))"
   ]
  },
  {
   "cell_type": "markdown",
   "metadata": {
    "id": "k4rU6jpZBElx"
   },
   "source": [
    "## 4. scrap ingredients and quantities from food.com"
   ]
  },
  {
   "cell_type": "markdown",
   "metadata": {},
   "source": [
    "### 4.1 generate query for url "
   ]
  },
  {
   "cell_type": "code",
   "execution_count": 74,
   "metadata": {},
   "outputs": [],
   "source": [
    "def generate_query(name,id):\n",
    "    name = name.split(\" \")\n",
    "    name = '-'.join(name)\n",
    "    query = name + \"-\" + str(id)\n",
    "    return query"
   ]
  },
  {
   "cell_type": "code",
   "execution_count": 75,
   "metadata": {},
   "outputs": [],
   "source": [
    "name = 'pretty freaking awesome pulled pork crock pot'\n",
    "id = 484624\n",
    "\n",
    "query = generate_query(name,id)"
   ]
  },
  {
   "cell_type": "markdown",
   "metadata": {},
   "source": [
    "### 4.2 scrapping"
   ]
  },
  {
   "cell_type": "code",
   "execution_count": 77,
   "metadata": {},
   "outputs": [],
   "source": [
    "def requestRecipeUrl(input:str):\n",
    "    # # INPUT(string) : Recipe name from food.com\n",
    "    # # OUTPUT(Constructor | BeautifulSoup) : BeautifulSoup constructor of Recipe URL html\n",
    "\n",
    "    # EXPECTED_RECIPE_PAGE = 'food.com/recipe/'\n",
    "    # input.index(EXPECTED_RECIPE_PAGE)\n",
    "    # input = input.split('?')[0]\n",
    "    \n",
    "    \"\"\"\n",
    "    SWEET AND SPICY VEGETARIAN CHILI\n",
    "    If scale is 0, there exist 0 quantity ingredients\n",
    "    Solution : search with scale 10 and divide each quantity by 10 later\n",
    "    \"\"\"\n",
    "    url = 'https://www.food.com/recipe/' + input + '?units=metric&scale=10'\n",
    "    \n",
    "\n",
    "    r = requests.get(url)\n",
    "    html_doc = r.text\n",
    "    soup = BeautifulSoup(html_doc, features=\"html.parser\")\n",
    "\n",
    "    return soup"
   ]
  },
  {
   "cell_type": "code",
   "execution_count": 79,
   "metadata": {},
   "outputs": [],
   "source": [
    "soup = requestRecipeUrl(query)"
   ]
  },
  {
   "cell_type": "code",
   "execution_count": 80,
   "metadata": {},
   "outputs": [],
   "source": [
    "def parseRecipeName(soup:BeautifulSoup):\n",
    "    # # INPUT(Constructor | BeautifulSoup) : BeautifulSoup constructor of Recipe URL html\n",
    "    # # OUTPUT(tuple | string, List of dictionary) : Recipe Name\n",
    "    recipeTitle = soup.title.text.split(' - Food.com')[0]\n",
    "    return recipeTitle\n",
    "\n",
    "def parseRecipeIngrd(soup:BeautifulSoup):\n",
    "    # # INPUT(Constructor | BeautifulSoup) : BeautifulSoup constructor of Recipe URL html\n",
    "    # # OUTPUT(List of dictionary) : Ingredients List\n",
    "    ingrdList = findIngrd(soup)\n",
    "    return ingrdList\n",
    "\n",
    "def findIngrd(soup:BeautifulSoup):\n",
    "    # # INPUT(Constructor | BeautifulSoup) : BeautifulSoup constructor of Recipe URL html\n",
    "    # # OUTPUT(List of dictionary) : Ingredient Information List\n",
    "    # #                              {'ingredient' : string, 'quantity' : float, 'unit' : string}\n",
    "\n",
    "    ingrdList = []\n",
    "\n",
    "    ultag = soup.find('ul', {'class': re.compile('^ingredient-list')})\n",
    "    i = 0\n",
    "    for litag in ultag.find_all('li'):\n",
    "        # print(f\"{i+1}/{len(ultag.find_all('li'))}\")\n",
    "        quant_obj = litag.find('span', {'class': re.compile('quantity')})\n",
    "        ingrd_obj = litag.find('span', {'class': re.compile('text')})\n",
    "\n",
    "        # CHECK : the item of list is the information of an ingredient.\n",
    "        if (quant_obj != None) and (ingrd_obj != None):\n",
    "            q_str = quant_obj.text.split('-')\n",
    "            q_str = q_str[0] # [CornerCase] e.g. 10-13\n",
    "            q = float(q_str)/10 if q_str != '' else float(0) # scale down from 10 to 1\n",
    "\n",
    "            # ASSUME : If there is no unit, the unit as 'ea'\n",
    "            _u = ingrd_obj.text.split()[0]\n",
    "            u = _u if (_u =='ml' or _u =='g') else 'ea'\n",
    "\n",
    "            # CHECK : the ingredient has a url for a detail.\n",
    "            ingrdPage = ingrd_obj.find('a')\n",
    "            if (ingrdPage != None):\n",
    "                sub_url = ingrdPage['href']\n",
    "                # CHECK : the ingrdient url is a Ingredient Detail page\n",
    "                if ('about' in sub_url):\n",
    "                    sub_url ='https://www.food.com' + sub_url\n",
    "                    sub_r = requests.get(sub_url)\n",
    "                    sub_html_doc = sub_r.text\n",
    "                    sub_soup = BeautifulSoup(sub_html_doc, features=\"html.parser\")\n",
    "                    ingrd = sub_soup.find('h1').text\n",
    "\n",
    "                    ingrdList.append({'ingredient' : ingrd.lower(), 'quantity' : q, 'unit' : u})\n",
    "                else:\n",
    "                    True\n",
    "                    # TODO [CORNER CASE] Recursive Call of Scraping Recipe Page. Skip now.\n",
    "            else:\n",
    "                # TODO [CORNER CASE] case for the ingredient doesn't have a url link\n",
    "                True\n",
    "        else:\n",
    "            True\n",
    "        i+=1\n",
    "\n",
    "    return ingrdList"
   ]
  },
  {
   "cell_type": "code",
   "execution_count": 81,
   "metadata": {},
   "outputs": [],
   "source": [
    "recipe = findIngrd(soup)"
   ]
  },
  {
   "cell_type": "code",
   "execution_count": 82,
   "metadata": {},
   "outputs": [
    {
     "name": "stdout",
     "output_type": "stream",
     "text": [
      "[{'ingredient': 'onion', 'quantity': 0.3, 'unit': 'ea'}, {'ingredient': 'ginger ale', 'quantity': 39.431, 'unit': 'ml'}, {'ingredient': 'barbecue sauce', 'quantity': 75.598, 'unit': 'g'}, {'ingredient': 'brown sugar', 'quantity': 2.464, 'unit': 'ml'}, {'ingredient': 'sugar', 'quantity': 2.464, 'unit': 'ml'}, {'ingredient': 'paprika', 'quantity': 2.464, 'unit': 'ml'}, {'ingredient': 'salt', 'quantity': 2.464, 'unit': 'ml'}, {'ingredient': 'pepper', 'quantity': 0.8210000000000001, 'unit': 'ml'}, {'ingredient': 'mustard, seed and powder', 'quantity': 0.8210000000000001, 'unit': 'ml'}, {'ingredient': 'cayenne pepper', 'quantity': 0.205, 'unit': 'ml'}]\n"
     ]
    }
   ],
   "source": [
    "print(recipe)"
   ]
  },
  {
   "cell_type": "code",
   "execution_count": 51,
   "metadata": {},
   "outputs": [],
   "source": [
    "# input - list of dictionary : recipe id \n",
    "'''\n",
    "recipe = [{'ingredient': 'chicken legs', 'quantity': 1.0, 'unit': 'ea'}, \n",
    "         {'ingredient': 'ricoatta cheese', 'quantity': 56.699, 'unit': 'g'}]\n",
    "'''"
   ]
  },
  {
   "cell_type": "markdown",
   "metadata": {
    "id": "pWicT_W5BM9v"
   },
   "source": [
    "## 5. compute cos sim and match to the most similar ingrediant in DB"
   ]
  },
  {
   "cell_type": "code",
   "execution_count": 83,
   "metadata": {},
   "outputs": [],
   "source": [
    "def replace_sim_words(input):\n",
    "    for i, ing_org in enumerate(input):\n",
    "        print(\"====\"*10)\n",
    "        print(\"Find most similar words of <<\",ing_org['ingredient'],\">> in DB\")\n",
    "        distances = []\n",
    "        ing_org_vec = ft.get_word_vector(ing_org['ingredient'])   \n",
    "\n",
    "        for ing_db_vec in ing_db_vecs:\n",
    "            cos_sim= distance.cosine(ing_org_vec, ing_db_vec)\n",
    "            distances.append(cos_sim)\n",
    "\n",
    "        min_dis = min(distances)\n",
    "        sim_word = ing_db_words[distances.index(min_dis)]\n",
    "        print(\"found! We will repace it to <<\",sim_word,\">> !\")\n",
    "        input[i]['ingredient']= sim_word\n",
    "        \n",
    "    return input\n",
    "       "
   ]
  },
  {
   "cell_type": "code",
   "execution_count": 84,
   "metadata": {},
   "outputs": [
    {
     "name": "stdout",
     "output_type": "stream",
     "text": [
      "========================================\n",
      "Find most similar words of << onion >> in DB\n",
      "found! We will repace it to << onion >> !\n",
      "========================================\n",
      "Find most similar words of << ginger ale >> in DB\n",
      "found! We will repace it to << white cabbage >> !\n",
      "========================================\n",
      "Find most similar words of << barbecue sauce >> in DB\n",
      "found! We will repace it to << fish sauce >> !\n",
      "========================================\n",
      "Find most similar words of << brown sugar >> in DB\n",
      "found! We will repace it to << brown sugar >> !\n",
      "========================================\n",
      "Find most similar words of << sugar >> in DB\n",
      "found! We will repace it to << sugar >> !\n",
      "========================================\n",
      "Find most similar words of << paprika >> in DB\n",
      "found! We will repace it to << paprika >> !\n",
      "========================================\n",
      "Find most similar words of << salt >> in DB\n",
      "found! We will repace it to << salt >> !\n",
      "========================================\n",
      "Find most similar words of << pepper >> in DB\n",
      "found! We will repace it to << pepper >> !\n",
      "========================================\n",
      "Find most similar words of << mustard, seed and powder >> in DB\n",
      "found! We will repace it to << granulated sugar >> !\n",
      "========================================\n",
      "Find most similar words of << cayenne pepper >> in DB\n",
      "found! We will repace it to << bell pepper >> !\n"
     ]
    },
    {
     "data": {
      "text/plain": [
       "[{'ingredient': 'onion', 'quantity': 0.3, 'unit': 'ea'},\n",
       " {'ingredient': 'white cabbage', 'quantity': 39.431, 'unit': 'ml'},\n",
       " {'ingredient': 'fish sauce', 'quantity': 75.598, 'unit': 'g'},\n",
       " {'ingredient': 'brown sugar', 'quantity': 2.464, 'unit': 'ml'},\n",
       " {'ingredient': 'sugar', 'quantity': 2.464, 'unit': 'ml'},\n",
       " {'ingredient': 'paprika', 'quantity': 2.464, 'unit': 'ml'},\n",
       " {'ingredient': 'salt', 'quantity': 2.464, 'unit': 'ml'},\n",
       " {'ingredient': 'pepper', 'quantity': 0.8210000000000001, 'unit': 'ml'},\n",
       " {'ingredient': 'granulated sugar',\n",
       "  'quantity': 0.8210000000000001,\n",
       "  'unit': 'ml'},\n",
       " {'ingredient': 'bell pepper', 'quantity': 0.205, 'unit': 'ml'}]"
      ]
     },
     "execution_count": 84,
     "metadata": {},
     "output_type": "execute_result"
    }
   ],
   "source": [
    "replace_sim_words(recipe)"
   ]
  },
  {
   "cell_type": "markdown",
   "metadata": {},
   "source": [
    "## 6. calculate total CO2"
   ]
  },
  {
   "cell_type": "code",
   "execution_count": 85,
   "metadata": {},
   "outputs": [],
   "source": [
    "def compute_emission(input):\n",
    "    emission = 0\n",
    "    for recipe in input:\n",
    "        emission += recipe['quantity']*(df_emissions.loc[df_emissions['ingredient'] == recipe['ingredient'], 'emissions'].iloc[0])\n",
    "    return emission\n",
    "               \n",
    "        "
   ]
  },
  {
   "cell_type": "code",
   "execution_count": 87,
   "metadata": {},
   "outputs": [
    {
     "data": {
      "text/plain": [
       "216.9877662"
      ]
     },
     "execution_count": 87,
     "metadata": {},
     "output_type": "execute_result"
    }
   ],
   "source": [
    "compute_emission(recipe)"
   ]
  },
  {
   "cell_type": "markdown",
   "metadata": {},
   "source": [
    "## 7. run test file and generate result csv file "
   ]
  },
  {
   "cell_type": "code",
   "execution_count": 90,
   "metadata": {},
   "outputs": [
    {
     "ename": "ValueError",
     "evalue": "could not convert string to float: '1⁄4'",
     "output_type": "error",
     "traceback": [
      "\u001b[0;31m---------------------------------------------------------------------------\u001b[0m",
      "\u001b[0;31mValueError\u001b[0m                                Traceback (most recent call last)",
      "Cell \u001b[0;32mIn [90], line 8\u001b[0m\n\u001b[1;32m      6\u001b[0m query \u001b[38;5;241m=\u001b[39m generate_query(name,\u001b[38;5;28mid\u001b[39m)\n\u001b[1;32m      7\u001b[0m soup \u001b[38;5;241m=\u001b[39m requestRecipeUrl(query)\n\u001b[0;32m----> 8\u001b[0m recipe \u001b[38;5;241m=\u001b[39m \u001b[43mfindIngrd\u001b[49m\u001b[43m(\u001b[49m\u001b[43msoup\u001b[49m\u001b[43m)\u001b[49m\n\u001b[1;32m      9\u001b[0m recipe_new \u001b[38;5;241m=\u001b[39m replace_sim_words(recipe)\n\u001b[1;32m     10\u001b[0m emission \u001b[38;5;241m=\u001b[39m compute_emission(recipe_new)\n",
      "Cell \u001b[0;32mIn [80], line 31\u001b[0m, in \u001b[0;36mfindIngrd\u001b[0;34m(soup)\u001b[0m\n\u001b[1;32m     29\u001b[0m q_str \u001b[38;5;241m=\u001b[39m quant_obj\u001b[38;5;241m.\u001b[39mtext\u001b[38;5;241m.\u001b[39msplit(\u001b[38;5;124m'\u001b[39m\u001b[38;5;124m-\u001b[39m\u001b[38;5;124m'\u001b[39m)\n\u001b[1;32m     30\u001b[0m q_str \u001b[38;5;241m=\u001b[39m q_str[\u001b[38;5;241m0\u001b[39m] \u001b[38;5;66;03m# [CornerCase] e.g. 10-13\u001b[39;00m\n\u001b[0;32m---> 31\u001b[0m q \u001b[38;5;241m=\u001b[39m \u001b[38;5;28;43mfloat\u001b[39;49m\u001b[43m(\u001b[49m\u001b[43mq_str\u001b[49m\u001b[43m)\u001b[49m\u001b[38;5;241m/\u001b[39m\u001b[38;5;241m10\u001b[39m \u001b[38;5;28;01mif\u001b[39;00m q_str \u001b[38;5;241m!=\u001b[39m \u001b[38;5;124m'\u001b[39m\u001b[38;5;124m'\u001b[39m \u001b[38;5;28;01melse\u001b[39;00m \u001b[38;5;28mfloat\u001b[39m(\u001b[38;5;241m0\u001b[39m) \u001b[38;5;66;03m# scale down from 10 to 1\u001b[39;00m\n\u001b[1;32m     33\u001b[0m \u001b[38;5;66;03m# ASSUME : If there is no unit, the unit as 'ea'\u001b[39;00m\n\u001b[1;32m     34\u001b[0m _u \u001b[38;5;241m=\u001b[39m ingrd_obj\u001b[38;5;241m.\u001b[39mtext\u001b[38;5;241m.\u001b[39msplit()[\u001b[38;5;241m0\u001b[39m]\n",
      "\u001b[0;31mValueError\u001b[0m: could not convert string to float: '1⁄4'"
     ]
    }
   ],
   "source": [
    "recipe_names = df_recipe['name']\n",
    "recipe_ids = df_recipe['id']\n",
    "emissions = []\n",
    "\n",
    "for name,id in zip(recipe_names,recipe_ids):\n",
    "    query = generate_query(name,id)\n",
    "    soup = requestRecipeUrl(query)\n",
    "    recipe = findIngrd(soup)\n",
    "    recipe_new = replace_sim_words(recipe)\n",
    "    emission = compute_emission(recipe_new)\n",
    "    emissions.append(emission)"
   ]
  },
  {
   "cell_type": "code",
   "execution_count": null,
   "metadata": {},
   "outputs": [],
   "source": [
    "emission_series = pd.Series(emissions)\n",
    "frame = { 'id': recipe_ids, 'total': emission_series}\n",
    "result = pd.DataFrame(frame)\n",
    "#Printing elements of Dataframe\n",
    "print(result)\n",
    "\n",
    "#export to csv file\n"
   ]
  },
  {
   "cell_type": "code",
   "execution_count": 64,
   "metadata": {},
   "outputs": [],
   "source": []
  },
  {
   "cell_type": "code",
   "execution_count": null,
   "metadata": {},
   "outputs": [],
   "source": []
  }
 ],
 "metadata": {
  "colab": {
   "authorship_tag": "ABX9TyMJf4a0p7efkHw83ZX+4ctx",
   "provenance": []
  },
  "kernelspec": {
   "display_name": "Python 3 (ipykernel)",
   "language": "python",
   "name": "python3"
  },
  "language_info": {
   "codemirror_mode": {
    "name": "ipython",
    "version": 3
   },
   "file_extension": ".py",
   "mimetype": "text/x-python",
   "name": "python",
   "nbconvert_exporter": "python",
   "pygments_lexer": "ipython3",
   "version": "3.8.9"
  }
 },
 "nbformat": 4,
 "nbformat_minor": 1
}
